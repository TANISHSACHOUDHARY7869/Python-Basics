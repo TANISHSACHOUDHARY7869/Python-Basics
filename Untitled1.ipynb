{
  "nbformat": 4,
  "nbformat_minor": 0,
  "metadata": {
    "colab": {
      "provenance": []
    },
    "kernelspec": {
      "name": "python3",
      "display_name": "Python 3"
    },
    "language_info": {
      "name": "python"
    }
  },
  "cells": [
    {
      "cell_type": "markdown",
      "source": [
        "1)What is Python, and why is it popular?\n",
        "ans:- Python is a high-level, interpreted programming language known for its clear, readable syntax and broad versatility. It was created by Guido van Rossum and first released in 1991.\n",
        "\n",
        "Why Python Is Popular:\n",
        "\n",
        "Ease of Learning and Use\n",
        "\n",
        "Its syntax is clean and close to plain English, making it beginner-friendly.\n",
        "\n",
        "Versatility\n",
        "\n",
        "Python can be used for web development, data science, machine learning, automation, scripting, game development, and more.\n",
        "\n",
        "Large Standard Library\n",
        "\n",
        "It comes with a robust standard library and a vast ecosystem of third-party packages (e.g., NumPy, Pandas, Flask, Django, TensorFlow).\n",
        "\n",
        "Strong Community Support\n",
        "\n",
        "Python has a huge global community, which means lots of tutorials, forums, and tools are readily available.\n",
        "\n",
        "Cross-platform Compatibility\n",
        "\n",
        "Python works on Windows, macOS, Linux, and more with minimal changes.\n",
        "\n",
        "# 1)What is Python, and why is it popular?\n",
        "# ans:- Python is a high-level, interpreted programming language known for its clear, readable syntax and broad versatility. It was created by Guido van Rossum and first released in 1991.\n",
        "\n",
        "# Why Python Is Popular:\n",
        "\n",
        "# Ease of Learning and Use\n",
        "\n",
        "# Its syntax is clean and close to plain English, making it beginner-friendly.\n",
        "\n",
        "# Versatility\n",
        "\n",
        "# Python can be used for web development, data science, machine learning, automation, scripting, game development, and more.\n",
        "\n",
        "# Large Standard Library\n",
        "\n",
        "# It comes with a robust standard library and a vast ecosystem of third-party packages (e.g., NumPy, Pandas, Flask, Django, TensorFlow).\n",
        "\n",
        "# Strong Community Support\n",
        "\n",
        "# Python has a huge global community, which means lots of tutorials, forums, and tools are readily available.\n",
        "\n",
        "# Cross-platform Compatibility\n",
        "\n",
        "# Python works on Windows, macOS, Linux, and more with minimal changes.\n",
        "\n",
        "# Popular in Growing Fields\n",
        "\n",
        "# It’s a leading language in data science, machine learning, AI, and automation.\n",
        "\n",
        "\n",
        "# 2) What is an interpreter in Python?\n",
        "\n",
        "# ans:- In Python, an interpreter is a program that reads and executes Python code line by line. Unlike a compiler, which translates the entire source code into machine code before running it, an interpreter translates and runs the code one line at a time.\n",
        "\n",
        "# Key Points:\n",
        "# The Python interpreter processes your .py files.\n",
        "# It checks for syntax errors, translates code into bytecode, and executes it on the Python Virtual Machine (PVM).\n",
        "\n",
        "# This allows for easy debugging and interactive development, such as using the Python REPL (Read-Eval-Print Loop).\n",
        "2) What is an interpreter in Python?\n",
        "\n",
        "ans:- In Python, an interpreter is a program that reads and executes Python code line by line. Unlike a compiler, which translates the entire source code into machine code before running it, an interpreter translates and runs the code one line at a time.\n",
        "\n",
        "Key Points:\n",
        "The Python interpreter processes your .py files.\n",
        "It checks for syntax errors, translates code into bytecode, and executes it on the Python Virtual Machine (PVM).\n",
        "\n",
        "This allows for easy debugging and interactive development, such as using the Python REPL (Read-Eval-Print Loop).\n",
        "\n",
        "3) What are pre-defined keywords in Python?\n",
        "\n",
        " ans:- In Python, pre-defined keywords (also called reserved words) are special words that have specific meanings and purposes in the language. These keywords are reserved by Python, which means you cannot use them as variable names, function names, or identifiers.\n",
        "\n",
        "Examples of Python Keywords:\n",
        "python\n",
        "Copy\n",
        "Edit\n",
        "False, True, None, and, or, not, if, else, elif,\n",
        "for, while, break, continue, return, def, class,\n",
        "import, from, as, pass, try, except, finally, raise,\n",
        "with, lambda, global, nonlocal, assert, yield, del, is, in\n",
        "Purpose:\n",
        "Keywords are part of the syntax of the language.\n",
        "\n",
        "They define the structure and rules for writing Python code.\n",
        "\n",
        "You can view all current Python keywords using:\n",
        "\n",
        "python\n",
        "Copy\n",
        "Edit\n",
        "import keyword\n",
        "print(keyword.kwlist)\n",
        "\n",
        "\n",
        "4) Can keywords be used as variable names?\n",
        "\n",
        " ans:- No, keywords cannot be used as variable names in Python.\n",
        "\n",
        "Why?\n",
        "Keywords are reserved by the language because they have special meanings in Python's syntax. If you try to use a keyword as a variable name, Python will raise a SyntaxError.\n",
        "\n",
        "\n",
        "5) What is mutability in Python?\n",
        "\n",
        "ans:- In Python, mutability refers to whether an object’s value can be changed after it is created.\n",
        "\n",
        "Types of Objects Based on Mutability:\n",
        "✅ Mutable objects – Can be changed in place\n",
        "Examples: list, dict, set, bytearray\n",
        "\n",
        "You can modify their content without changing their identity.\n",
        "\n",
        "❌ Immutable objects – Cannot be changed after creation\n",
        "Examples: int, float, str, tuple, bool, frozenset\n",
        "\n",
        "Any change creates a new object.\n",
        "\n",
        "6) Why are lists mutable, but tuples are immutable?\n",
        "\n",
        "ans:- Lists are mutable and tuples are immutable in Python because of design choices made to balance flexibility and safety.\n",
        "\n",
        "🔁 Why lists are mutable:\n",
        "Purpose: Lists are meant to be flexible collections.\n",
        "\n",
        "You can add, remove, or change elements.\n",
        "\n",
        "Useful for dynamic data, like storing items in a shopping cart or updating records\n",
        "\n",
        "🔒 Why tuples are immutable:\n",
        "Purpose: Tuples are used to represent fixed collections of items.\n",
        "\n",
        "Once created, they cannot be changed, making them safe to use as keys in dictionaries or to protect data from accidental modification.\n",
        "\n",
        "Summary:\n",
        "Lists = mutable = changeable\n",
        "\n",
        "Tuples = immutable = unchangeable\n",
        "\n",
        "Python offers both to suit different programming needs (flexibility vs. safety).\n",
        "\n",
        "\n",
        "7) What is the difference between “==” and “is” operators in Python?\n",
        "\n",
        "ans:- In Python, the == operator is used for value comparison, while the is operator is used for object identity comparison.\n",
        "\n",
        "8) What are logical operators in Python?\n",
        "\n",
        "ans:-In Python, logical operators are used to combine or compare Boolean values (True or False) and control the flow of logic in conditions.\n",
        "\n",
        "🔑 The 3 Logical Operators in Python:\n",
        "Operator\tDescription\tExample\tResult\n",
        "and\tTrue if both are True\tTrue and False\tFalse\n",
        "or\tTrue if at least one True\tTrue or False\tTrue\n",
        "not\tReverses the Boolean value\tnot True\tFalse\n",
        "\n",
        "✅ Examples:\n",
        "x = True\n",
        "y = False\n",
        "\n",
        "print(x and y)  # False\n",
        "print(x or y)   # True\n",
        "print(not x)    # False\n",
        "Logical operators are commonly used in if statements, loops, and expressions involving conditions.\n",
        "\n",
        "Would you like to see how these operators work in an if statement?\n",
        "\n",
        "\n",
        "\n",
        "You said:\n",
        " What are logical operators in Python\n",
        "\n",
        "ChatGPT said:\n",
        "Logical operators in Python are used to perform Boolean logic — that is, they combine or compare expressions that return True or False.\n",
        "\n",
        "🔧 There are 3 logical operators:\n",
        "and\n",
        "\n",
        "Returns True if both conditions are True.\n",
        "\n",
        "Example:\n",
        "True and True   # → True\n",
        "True and False  # → False\n",
        "or\n",
        "\n",
        "Returns True if at least one condition is True.\n",
        "\n",
        "Example:\n",
        "False or True   # → True\n",
        "False or False  # → False\n",
        "not\n",
        "\n",
        "Reverses the Boolean value.\n",
        "\n",
        "Example:\n",
        "not True    # → False\n",
        "not False   # → True\n",
        "\n",
        "\n",
        "9) What is type casting in Python?\n",
        "\n",
        "ans:- Type casting in Python is the process of converting a value from one data type to another, such as turning a string into an integer or a float into a string.\n",
        "\n",
        "🔧 Two Types of Type Casting:\n",
        "Implicit Type Casting – Done automatically by Python.\n",
        "\n",
        "python\n",
        "Copy\n",
        "Edit\n",
        "x = 5       # int\n",
        "y = 2.0     # float\n",
        "result = x + y  # Python automatically converts x to float\n",
        "print(result)   # Output: 7.0\n",
        "Explicit Type Casting – You manually convert the data type using functions.\n",
        "a = \"10\"\n",
        "b = int(a)  # Convert string to integer\n",
        "print(b + 5)  # Output: 15\n",
        "🎯 Common Casting Functions:\n",
        "int() – Converts to integer\n",
        "\n",
        "float() – Converts to float\n",
        "\n",
        "str() – Converts to string\n",
        "\n",
        "bool() – Converts to boolean\n",
        "\n",
        "list(), tuple(), set() – Convert to those collections.\n",
        "\n",
        "10) What is the difference between implicit and explicit type casting?\n",
        "\n",
        "ans:- The difference between implicit and explicit type casting in Python lies in who performs the conversion — the interpreter or the programmer.\n",
        "\n",
        "🔹 Implicit Type Casting:\n",
        "Done automatically by Python.\n",
        "\n",
        "Happens when mixing data types in expressions.\n",
        "\n",
        "No data loss or risk of error (usually safe).\n",
        "\n",
        "\n",
        "🔸 Explicit Type Casting:\n",
        "Done manually by the programmer using functions like int(), float(), str(), etc.\n",
        "\n",
        "Needed when Python can’t automatically convert types safely.\n",
        "\n",
        "You take responsibility for the conversion\n",
        "\n",
        "11) What is the purpose of conditional statements in Python?\n",
        "ans:- The purpose of conditional statements in Python is to allow the program to make decisions based on certain conditions. These statements help the program choose different actions depending on whether a condition evaluates to True or False.\n",
        "\n",
        "🔑 Key Types of Conditional Statements in Python:\n",
        "\n",
        ".if statement: Executes a block of code if the condition is True.\n",
        ".else statement: Executes a block of code if the condition is False (used with if).\n",
        ".elif (else if): Checks multiple conditions if the first if condition is False.\n",
        "\n",
        "\n",
        "🧠 Purpose of Conditional Statements:\n",
        "Control program flow: Make decisions that change the behavior of the program.\n",
        "\n",
        "Handle different situations: Based on user input, data values, or other conditions.\n",
        "\n",
        "Improve code readability: Allow programs to make logical decisions in an easy-to-understand way.\n",
        "\n",
        "12) How does the elif statement work?\n",
        "\n",
        "ans:-ChatGPT said:\n",
        "The **elif** (short for \"else if\") statement in Python is used when you want to check multiple conditions in sequence. It's an extension of the if statement, allowing you to test several conditions after an initial if condition, without needing to nest multiple if statements.\n",
        "\n",
        "How elif Works:\n",
        "The program first evaluates the if condition.\n",
        "\n",
        "If the if condition is True, it runs the corresponding block of code and skips all elif and else statements.\n",
        "\n",
        "If the if condition is False, it moves on to check the first elif condition.\n",
        "\n",
        "If the elif condition is True, it runs that block of code and skips all subsequent elif and else statements.\n",
        "\n",
        "If none of the if or elif conditions are True, the program runs the else block, if it exists.\n",
        "\n",
        "Syntax:\n",
        "if condition_1:\n",
        "    # Code block for condition_1\n",
        "elif condition_2:\n",
        "    # Code block for condition_2\n",
        "elif condition_3:\n",
        "    # Code block for condition_3\n",
        "else:\n",
        "\n",
        "13) What is the difference between for and while loops?\n",
        "ans:- The difference between for loops and while loops in Python lies in how the looping conditions are structured and how they are used.\n",
        "\n",
        "🔑 Key Differences Between for and while Loops:\n",
        "=> for Loops:\n",
        ".When it is used:-\tWhen the number of iterations is known or determined by a sequence (like a list or range).\n",
        ".Loop control:-Iterates over a sequence (like a list, tuple, range, etc.).\n",
        ".Syntax:-for item in sequence:\n",
        ".Stopping Condition:-Iterates until all items in the sequence are processed.\n",
        ".Common use cases:-When you need to repeat actions for a set number of times or over items in a collection.\n",
        "=>while loops:\n",
        ".when it is used:-When the number of iterations is not known in advance and depends on a condition.\n",
        ".Loop control:- Continues as long as the condition is True.\n",
        ".syntax:- while condition:\n",
        ".stooping:- Continues until the condition evaluates to False.\n",
        ".common use cases:-When you need to repeat actions until a specific condition is met.\n",
        "\n",
        "14) Describe a scenario where a while loop is more suitable than a for loop?\n",
        "ans:-A while loop is more suitable than a for loop in scenarios where you don’t know how many iterations are required in advance, and the loop needs to continue until a certain condition is met. This makes the while loop ideal for cases where the number of iterations is dynamic and depends on factors that may change during the execution of the loop.\n",
        "\n",
        "Example Scenario: Guessing Game\n",
        "Imagine you're creating a guessing game, where a user needs to guess a secret number, but the number of attempts isn't known beforehand. The game should continue running until the user guesses the number correctly.\n",
        "\n",
        "In this case, a while loop is appropriate because you don’t know how many attempts it will take for the user to guess the number correctly\n",
        "Why the while loop is more suitable here:\n",
        "Unknown number of iterations: The user might need any number of guesses to find the correct answer. You don’t know how many iterations the loop will take, so a while loop that checks the condition (True in this case) and runs until the guess is correct works perfectly.\n",
        "\n",
        "Condition-based exit: The loop exits when the user guesses the correct number, making the while loop a natural choice for such dynamic, condition-based scenarios.\n",
        "\n",
        "Contrast with for loop:\n",
        "If you used a for loop, you'd have to know the number of attempts in advance or loop over a predefined sequence (like a fixed number of guesses), which wouldn't fit the dynamic nature of the game. The while loop handles this situation more flexibly.\n",
        "\n",
        "\n"
      ],
      "metadata": {
        "id": "_DeEd25wWDOu"
      }
    },
    {
      "cell_type": "markdown",
      "source": [],
      "metadata": {
        "id": "ExPB5f4hWObY"
      }
    },
    {
      "cell_type": "markdown",
      "source": [
        "1) Write a Python program to print \"Hello, World!\""
      ],
      "metadata": {
        "id": "WVCantWaYdk5"
      }
    },
    {
      "cell_type": "code",
      "source": [
        "\"HELLO,WORLD\""
      ],
      "metadata": {
        "colab": {
          "base_uri": "https://localhost:8080/",
          "height": 36
        },
        "id": "ii7lxsycYoHt",
        "outputId": "8c1ac461-cf01-483d-c3db-37d478641d7a"
      },
      "execution_count": 3,
      "outputs": [
        {
          "output_type": "execute_result",
          "data": {
            "text/plain": [
              "'HELLO,WORLD'"
            ],
            "application/vnd.google.colaboratory.intrinsic+json": {
              "type": "string"
            }
          },
          "metadata": {},
          "execution_count": 3
        }
      ]
    },
    {
      "cell_type": "markdown",
      "source": [
        "2)  Write a Python program that displays your name and age"
      ],
      "metadata": {
        "id": "hcTq9z1kYxpI"
      }
    },
    {
      "cell_type": "code",
      "source": [
        "%env NAME=TANISHA CHOUDHARY\n",
        "%env AGE=21"
      ],
      "metadata": {
        "colab": {
          "base_uri": "https://localhost:8080/"
        },
        "id": "wwJWNvyMZZar",
        "outputId": "d57ce656-053d-4226-ca3e-938b8087901d"
      },
      "execution_count": 6,
      "outputs": [
        {
          "output_type": "stream",
          "name": "stdout",
          "text": [
            "env: NAME=TANISHA CHOUDHARY\n",
            "env: AGE=21\n"
          ]
        }
      ]
    },
    {
      "cell_type": "markdown",
      "source": [
        "3) Write code to print all the pre-defined keywords in Python using the keyword library"
      ],
      "metadata": {
        "id": "IQwx2rFWZqa6"
      }
    },
    {
      "cell_type": "code",
      "source": [
        "keyword"
      ],
      "metadata": {
        "colab": {
          "base_uri": "https://localhost:8080/"
        },
        "id": "96GaKbe6aICS",
        "outputId": "0bda18f9-4c6b-4fae-fadb-31c4f26c7931"
      },
      "execution_count": 14,
      "outputs": [
        {
          "output_type": "execute_result",
          "data": {
            "text/plain": [
              "<module 'keyword' from '/usr/lib/python3.11/keyword.py'>"
            ]
          },
          "metadata": {},
          "execution_count": 14
        }
      ]
    },
    {
      "cell_type": "markdown",
      "source": [
        "4) Write a program that checks if a given word is a Python keyword."
      ],
      "metadata": {
        "id": "SWX0pkvmbACK"
      }
    },
    {
      "cell_type": "code",
      "source": [
        "keyword"
      ],
      "metadata": {
        "colab": {
          "base_uri": "https://localhost:8080/"
        },
        "id": "W8kM-LBFbGJA",
        "outputId": "de6ba31b-6452-40ab-d4f4-02f9b6dd6924"
      },
      "execution_count": 15,
      "outputs": [
        {
          "output_type": "execute_result",
          "data": {
            "text/plain": [
              "<module 'keyword' from '/usr/lib/python3.11/keyword.py'>"
            ]
          },
          "metadata": {},
          "execution_count": 15
        }
      ]
    },
    {
      "cell_type": "markdown",
      "source": [
        "5) Create a list and tuple in Python, and demonstrate how attempting to change an element works differently\n",
        "for each."
      ],
      "metadata": {
        "id": "rWv7zHlTbPbc"
      }
    },
    {
      "cell_type": "code",
      "source": [
        "# Creating a list\n",
        "my_list = [1, 2, 3]\n",
        "print(\"Original list:\", my_list)\n",
        "\n",
        "# Modifying an element in the list\n",
        "my_list[1] = 10\n",
        "print(\"Modified list:\", my_list)\n",
        "\n",
        "# Creating a tuple\n",
        "my_tuple = (4, 5, 6)\n",
        "print(\"Original tuple:\", my_tuple)\n"
      ],
      "metadata": {
        "colab": {
          "base_uri": "https://localhost:8080/"
        },
        "id": "cN2tTTujbWwg",
        "outputId": "ecc24a2a-e413-41db-ad71-53649f8e0e34"
      },
      "execution_count": 16,
      "outputs": [
        {
          "output_type": "stream",
          "name": "stdout",
          "text": [
            "Original list: [1, 2, 3]\n",
            "Modified list: [1, 10, 3]\n",
            "Original tuple: (4, 5, 6)\n"
          ]
        }
      ]
    },
    {
      "cell_type": "markdown",
      "source": [
        "6) Write a function to demonstrate the behavior of mutable and immutable arguments.\n"
      ],
      "metadata": {
        "id": "xtNNOmvsbjhL"
      }
    },
    {
      "cell_type": "code",
      "source": [
        "def demonstrate_mutable_immutable(num, num_list):\n",
        "    print(\"Before change:\")\n",
        "    print(\"num =\", num)\n",
        "    print(\"num_list =\", num_list)\n"
      ],
      "metadata": {
        "id": "qyWrrAtodUHZ"
      },
      "execution_count": 49,
      "outputs": []
    },
    {
      "cell_type": "markdown",
      "source": [
        "7) Write a program that performs basic arithmetic operations on two user-input numbers.\n"
      ],
      "metadata": {
        "id": "3T4x52IHdWpe"
      }
    },
    {
      "cell_type": "code",
      "source": [
        "def perform_arithmetic(num1, num2):\n",
        "  \"\"\"Performs basic arithmetic operations on two numbers.\"\"\"\n",
        "  print(f\"The sum of {num1} and {num2} is: {num1 + num2}\")\n",
        "  print(f\"The difference between {num1} and {num2} is: {num1 - num2}\")\n",
        "  print(f\"The product of {num1} and {num2} is: {num1 * num2}\")\n",
        "  if num2 != 0:\n",
        "    print(f\"The quotient of {num1} and {num2} is: {num1 / num2}\")\n",
        "  else:\n",
        "    print(\"Cannot divide by zero.\")\n"
      ],
      "metadata": {
        "colab": {
          "base_uri": "https://localhost:8080/"
        },
        "id": "NvSpK6uReBYO",
        "outputId": "5fa1cbac-7398-4592-fcf3-fc80858aa08c"
      },
      "execution_count": 53,
      "outputs": [
        {
          "name": "stdout",
          "output_type": "stream",
          "text": [
            "Enter the first number: 1\n",
            "Enter the second number: 2\n"
          ]
        }
      ]
    },
    {
      "cell_type": "markdown",
      "source": [
        "8.)Write a program to demonstrate the use of logical operators."
      ],
      "metadata": {
        "id": "pFBczpHPebrr"
      }
    },
    {
      "cell_type": "code",
      "source": [
        "# Get user input\n",
        "a = int(input(\"1\"))\n",
        "b = int(input(\"2\"))\n"
      ],
      "metadata": {
        "colab": {
          "base_uri": "https://localhost:8080/"
        },
        "id": "rXk_9IFJee5G",
        "outputId": "c7e1db01-f35c-403e-be70-54423549c6bd"
      },
      "execution_count": 59,
      "outputs": [
        {
          "name": "stdout",
          "output_type": "stream",
          "text": [
            "11\n",
            "22\n"
          ]
        }
      ]
    },
    {
      "cell_type": "markdown",
      "source": [
        "9) Write a Python program to convert user input from string to integer, float, and boolean types.\n"
      ],
      "metadata": {
        "id": "fQcfxbXhfavx"
      }
    },
    {
      "cell_type": "code",
      "source": [
        "# Get input from user\n",
        "user_input = input(\"Enter a value: \")\n",
        "\n",
        "# Convert to integer\n",
        "try:\n",
        "    int_value = int(user_input)\n",
        "except ValueError:\n",
        "    int_value = \"Conversion to int failed\"\n",
        "\n",
        "# Convert to float\n",
        "try:\n",
        "    float_value = float(user_input)\n",
        "except ValueError:\n",
        "    float_value = \"Conversion to float failed\"\n",
        "\n",
        "# Convert to boolean\n",
        "bool_value = bool(user_input)  # Empty string = False, anything else = True\n",
        "# Convert to integer\n",
        "try:\n",
        "    int_value = int(user_input)\n",
        "except ValueError:\n",
        "    int_value = \"Conversion to int failed\"\n",
        "\n",
        "# Convert to float\n",
        "try:\n",
        "    float_value = float(user_input)\n",
        "except ValueError:\n",
        "    float_value = \"Conversion to float failed\"\n",
        "\n",
        "# Convert to boolean\n",
        "bool_value = bool(user_input)  # Empty string = False, anything else = True\n"
      ],
      "metadata": {
        "colab": {
          "base_uri": "https://localhost:8080/"
        },
        "id": "uK4UhOgKfmI_",
        "outputId": "12fdfb34-1cf6-40f5-e628-4b1e33654ba9"
      },
      "execution_count": 62,
      "outputs": [
        {
          "name": "stdout",
          "output_type": "stream",
          "text": [
            "Enter a value: 1\n"
          ]
        }
      ]
    },
    {
      "cell_type": "markdown",
      "source": [
        "10) Write code to demonstrate type casting with list elements.\n"
      ],
      "metadata": {
        "id": "H12r7cl7ft_t"
      }
    },
    {
      "cell_type": "code",
      "source": [
        "my_list = [1, 2, 3, 4, 5]\n",
        "\n",
        "# Casting integers to strings\n",
        "string_list = [str(x) for x in my_list]\n",
        "print(\"List of strings:\", string_list)\n",
        "\n",
        "# Casting integers to float\n",
        "float_list = [float(x) for x in my_list]\n",
        "print(\"List of floats:\", float_list)\n",
        "\n",
        "# Creating a mixed list\n",
        "mixed_list = [1, 2.0, \"3\", 4, 5.0]\n",
        "\n",
        "# Casting elements to integers, handling potential errors\n",
        "int_list = []\n",
        "for item in mixed_list:\n",
        "    try:\n",
        "        int_list.append(int(item))\n",
        "    except ValueError:\n",
        "        print(f\"Cannot convert '{item}' to integer\")\n",
        "print(\"List of integers (after error handling):\", int_list)\n"
      ],
      "metadata": {
        "colab": {
          "base_uri": "https://localhost:8080/"
        },
        "id": "JK51BIBPgrEx",
        "outputId": "a9f1408c-937b-4d18-e63b-53971f180eda"
      },
      "execution_count": 70,
      "outputs": [
        {
          "output_type": "stream",
          "name": "stdout",
          "text": [
            "List of strings: ['1', '2', '3', '4', '5']\n",
            "List of floats: [1.0, 2.0, 3.0, 4.0, 5.0]\n",
            "List of integers (after error handling): [1, 2, 3, 4, 5]\n"
          ]
        }
      ]
    },
    {
      "cell_type": "markdown",
      "source": [
        "11) Write a program that checks if a number is positive, negative, or zero.\n"
      ],
      "metadata": {
        "id": "WWmjqcM1g8GV"
      }
    },
    {
      "cell_type": "code",
      "source": [
        "def check_number(num):\n",
        "  \"\"\"Checks if a number is positive, negative, or zero.\"\"\"\n",
        "  if num > 0:\n",
        "    print(f\"{num} is positive\")\n",
        "  elif num < 0:\n",
        "    print(f\"{num} is negative\")\n",
        "  else:\n",
        "    print(\"The number is zero\")\n"
      ],
      "metadata": {
        "id": "IEvlBbi1hAGn"
      },
      "execution_count": 72,
      "outputs": []
    },
    {
      "cell_type": "markdown",
      "source": [
        "12) Write a for loop to print numbers from 1 to 10.\n"
      ],
      "metadata": {
        "id": "XJLuX39khH4E"
      }
    },
    {
      "cell_type": "code",
      "source": [
        "for i in range(1, 11):\n",
        "    print(i)\n"
      ],
      "metadata": {
        "colab": {
          "base_uri": "https://localhost:8080/"
        },
        "id": "6_HXspsShcBu",
        "outputId": "cf0effa4-1e3d-49cc-902f-c9c8affbaba1"
      },
      "execution_count": 75,
      "outputs": [
        {
          "output_type": "stream",
          "name": "stdout",
          "text": [
            "1\n",
            "2\n",
            "3\n",
            "4\n",
            "5\n",
            "6\n",
            "7\n",
            "8\n",
            "9\n",
            "10\n"
          ]
        }
      ]
    },
    {
      "cell_type": "markdown",
      "source": [
        "13) Write a Python program to find the sum of all even numbers between 1 and 50.\n"
      ],
      "metadata": {
        "id": "wnund40XhlL4"
      }
    },
    {
      "cell_type": "code",
      "source": [
        "total = 0\n",
        "for i in range(2, 51, 2):  # Start at 2, go up to 50, step by 2\n",
        "    total += i\n",
        "\n",
        "print(\"Sum of even numbers from 1 to 50 is:\", total)\n"
      ],
      "metadata": {
        "colab": {
          "base_uri": "https://localhost:8080/"
        },
        "id": "467LjYmOhsKc",
        "outputId": "84cfee4b-38a9-4cbf-9d3d-595b5956d558"
      },
      "execution_count": 77,
      "outputs": [
        {
          "output_type": "stream",
          "name": "stdout",
          "text": [
            "Sum of even numbers from 1 to 50 is: 650\n"
          ]
        }
      ]
    },
    {
      "cell_type": "markdown",
      "source": [
        "14) Write a program to reverse a string using a while loop.\n"
      ],
      "metadata": {
        "id": "7Mx5wn-2h2-8"
      }
    },
    {
      "cell_type": "code",
      "source": [
        "# Input string\n",
        "original = \"hello\"\n",
        "reversed_str = \"\"\n",
        "\n",
        "# Get the length of the string\n",
        "index = len(original) - 1\n",
        "\n",
        "# Use while loop to reverse\n",
        "while index >= 0:\n",
        "    reversed_str += original[index]\n",
        "    index -= 1\n",
        "\n",
        "print(\"Reversed string is:\", reversed_str)"
      ],
      "metadata": {
        "colab": {
          "base_uri": "https://localhost:8080/"
        },
        "id": "E4An4WNmiH_x",
        "outputId": "475824ff-f36b-44ec-85ff-8f5b9b476bac"
      },
      "execution_count": 82,
      "outputs": [
        {
          "output_type": "stream",
          "name": "stdout",
          "text": [
            "Reversed string is: olleh\n"
          ]
        }
      ]
    },
    {
      "cell_type": "markdown",
      "source": [
        "15) Write a Python program to calculate the factorial of a number provided by the user using a while loop."
      ],
      "metadata": {
        "id": "WWBhS3SLiNJu"
      }
    },
    {
      "cell_type": "code",
      "source": [
        "# Get input from the user\n",
        "num = int(input(\"Enter a number to find its factorial: \"))\n",
        "\n",
        "# Initialize variables\n",
        "factorial = 1\n",
        "i = 1\n",
        "\n",
        "# Calculate factorial using while loop\n",
        "while i <= num:\n",
        "    factorial *= i\n",
        "    i += 1\n",
        "\n",
        "print(\"Factorial of\", num, \"is:\", factorial)\n"
      ],
      "metadata": {
        "colab": {
          "base_uri": "https://localhost:8080/"
        },
        "id": "QeVLjnppiT3N",
        "outputId": "d2f4369a-e993-4d5e-c8b8-75a8bb4006fb"
      },
      "execution_count": 83,
      "outputs": [
        {
          "output_type": "stream",
          "name": "stdout",
          "text": [
            "Enter a number to find its factorial: 1\n",
            "Factorial of 1 is: 1\n"
          ]
        }
      ]
    }
  ]
}